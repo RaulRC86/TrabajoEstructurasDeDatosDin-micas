{
  "nbformat": 4,
  "nbformat_minor": 0,
  "metadata": {
    "colab": {
      "provenance": []
    },
    "kernelspec": {
      "name": "python3",
      "display_name": "Python 3"
    },
    "language_info": {
      "name": "python"
    }
  },
  "cells": [
    {
      "cell_type": "code",
      "source": [
        "!pip install binarytree"
      ],
      "metadata": {
        "colab": {
          "base_uri": "https://localhost:8080/"
        },
        "collapsed": true,
        "id": "tU9jmgbCD9Ec",
        "outputId": "7ced4181-a1dc-401f-cac0-c23be05cb901"
      },
      "execution_count": null,
      "outputs": [
        {
          "output_type": "stream",
          "name": "stdout",
          "text": [
            "Requirement already satisfied: binarytree in /usr/local/lib/python3.10/dist-packages (6.5.1)\n",
            "Requirement already satisfied: graphviz in /usr/local/lib/python3.10/dist-packages (from binarytree) (0.20.3)\n",
            "Requirement already satisfied: setuptools>=60.8.2 in /usr/local/lib/python3.10/dist-packages (from binarytree) (71.0.4)\n",
            "Requirement already satisfied: setuptools-scm>=5.0.1 in /usr/local/lib/python3.10/dist-packages (from setuptools-scm[toml]>=5.0.1->binarytree) (8.1.0)\n",
            "Requirement already satisfied: packaging>=20 in /usr/local/lib/python3.10/dist-packages (from setuptools-scm>=5.0.1->setuptools-scm[toml]>=5.0.1->binarytree) (24.1)\n",
            "Requirement already satisfied: tomli>=1 in /usr/local/lib/python3.10/dist-packages (from setuptools-scm>=5.0.1->setuptools-scm[toml]>=5.0.1->binarytree) (2.0.1)\n"
          ]
        }
      ]
    },
    {
      "cell_type": "code",
      "source": [
        "from binarytree import build\n",
        "\n",
        "values = [40, 20, 45, 11, 15, 30, 78]\n",
        "root = build(values)\n",
        "print(root)\n"
      ],
      "metadata": {
        "colab": {
          "base_uri": "https://localhost:8080/"
        },
        "id": "UCetffR0ERSA",
        "outputId": "d1469e83-b16f-4598-abaa-2fc4bb6294db"
      },
      "execution_count": null,
      "outputs": [
        {
          "output_type": "stream",
          "name": "stdout",
          "text": [
            "\n",
            "     ____40___\n",
            "    /         \\\n",
            "  _20         _45\n",
            " /   \\       /   \\\n",
            "11    15    30    78\n",
            "\n"
          ]
        }
      ]
    },
    {
      "cell_type": "code",
      "execution_count": null,
      "metadata": {
        "colab": {
          "base_uri": "https://localhost:8080/"
        },
        "id": "Kp9sbaRaDq6Y",
        "outputId": "afd6421e-cacd-4b94-eaa9-dbc4da5dcc3d"
      },
      "outputs": [
        {
          "output_type": "stream",
          "name": "stdout",
          "text": [
            "\n",
            "     ____40___\n",
            "    /         \\\n",
            "  _20         _45\n",
            " /   \\       /   \\\n",
            "11    15    30    78\n",
            "\n"
          ]
        }
      ],
      "source": [
        "from binarytree import Node\n",
        "root = Node(40)\n",
        "root.left = Node(20)\n",
        "root.right = Node(45)\n",
        "root.left.left = Node(11)\n",
        "root.left.right = Node(15)\n",
        "root.right.left = Node(30)\n",
        "root.right.right = Node(78)\n",
        "print(root)\n"
      ]
    }
  ]
}